{
 "cells": [
  {
   "cell_type": "code",
   "execution_count": 18,
   "id": "4b8f7f98-d6f0-42e2-a28d-64871ee906a2",
   "metadata": {},
   "outputs": [],
   "source": [
    "hesabat_ili = 2024\n",
    "umumi_senaye_istehsal_hecmi_min_azn = 82123.5\n",
    "neft_qaz_sektorunun_payi_faiz = 27.3\n",
    "yeni_mulkiyyet_sayi = 5\n",
    "son_data_yenileme_tarixi = 2024-12-26"
   ]
  },
  {
   "cell_type": "code",
   "execution_count": 19,
   "id": "4fe79749-4cfd-4e1c-9861-d9b01659b918",
   "metadata": {},
   "outputs": [
    {
     "name": "stdout",
     "output_type": "stream",
     "text": [
      "Hesabat İli: 2024\n"
     ]
    }
   ],
   "source": [
    "print(\"Hesabat İli:\", hesabat_ili)"
   ]
  },
  {
   "cell_type": "code",
   "execution_count": 20,
   "id": "f88d2652-0a34-4388-a907-8f0fe278b0eb",
   "metadata": {},
   "outputs": [
    {
     "name": "stdout",
     "output_type": "stream",
     "text": [
      "Ümumi Sənaye İstehsal Həcmi (Min AZN): 82123.5\n"
     ]
    }
   ],
   "source": [
    "print(\"Ümumi Sənaye İstehsal Həcmi (Min AZN):\", umumi_senaye_istehsal_hecmi_min_azn)"
   ]
  },
  {
   "cell_type": "code",
   "execution_count": 21,
   "id": "12a09cea-306c-4951-a0e5-4c806a751c94",
   "metadata": {},
   "outputs": [
    {
     "name": "stdout",
     "output_type": "stream",
     "text": [
      "Neft-qaz sektorunun payı (faizlə): 27.3\n"
     ]
    }
   ],
   "source": [
    "print(\"Neft-qaz sektorunun payı (faizlə):\", neft_qaz_sektorunun_payi_faiz)"
   ]
  },
  {
   "cell_type": "code",
   "execution_count": 22,
   "id": "28d9db0c-fc24-43d6-a2b1-6b7461574117",
   "metadata": {},
   "outputs": [
    {
     "name": "stdout",
     "output_type": "stream",
     "text": [
      "Yeni mülkiyyətçi sayı (nəfərlə): 5\n"
     ]
    }
   ],
   "source": [
    "print(\"Yeni mülkiyyətçi sayı (nəfərlə):\", yeni_mulkiyyet_sayi)"
   ]
  },
  {
   "cell_type": "code",
   "execution_count": 23,
   "id": "c7637374-754b-4ddf-b239-e5611828a19f",
   "metadata": {},
   "outputs": [
    {
     "name": "stdout",
     "output_type": "stream",
     "text": [
      "Son yenilənmə tarixi 1986\n"
     ]
    }
   ],
   "source": [
    "print(\"Son yenilənmə tarixi\", son_data_yenileme_tarixi)"
   ]
  },
  {
   "cell_type": "code",
   "execution_count": 24,
   "id": "0d67b0d4-c053-4435-9990-8651f4ee7d68",
   "metadata": {},
   "outputs": [
    {
     "name": "stdout",
     "output_type": "stream",
     "text": [
      "hesabat_ili dəyişəninin tipi: <class 'int'>\n",
      "umumi_senaye_istehsal_hecmi_mln_azn dəyişəninin tipi: <class 'float'>\n"
     ]
    }
   ],
   "source": [
    "print(\"hesabat_ili dəyişəninin tipi:\", type(hesabat_ili))\n",
    "print(\"umumi_senaye_istehsal_hecmi_mln_azn dəyişəninin tipi:\", type(umumi_senaye_istehsal_hecmi_mln_azn))"
   ]
  },
  {
   "cell_type": "code",
   "execution_count": 25,
   "id": "2e88275c-ec01-48bb-848a-abea3930a135",
   "metadata": {},
   "outputs": [],
   "source": [
    "qeyri_neft_qaz_sektorunun_payi_faiz = 100 - neft_qaz_sektorunun_payi_faiz"
   ]
  },
  {
   "cell_type": "code",
   "execution_count": 26,
   "id": "02063cab-f6e7-40d9-b7b2-31bae82237c5",
   "metadata": {},
   "outputs": [
    {
     "name": "stdout",
     "output_type": "stream",
     "text": [
      "Qeyri neft qaz sektorunun payı (faizlə) 72.7\n"
     ]
    }
   ],
   "source": [
    "print(\"Qeyri neft qaz sektorunun payı (faizlə)\", qeyri_neft_qaz_sektorunun_payi_faiz)"
   ]
  },
  {
   "cell_type": "code",
   "execution_count": null,
   "id": "a5c8b5bc-10d5-4af3-8663-dd24c5bb51d7",
   "metadata": {},
   "outputs": [],
   "source": []
  }
 ],
 "metadata": {
  "kernelspec": {
   "display_name": "Python 3 (ipykernel)",
   "language": "python",
   "name": "python3"
  },
  "language_info": {
   "codemirror_mode": {
    "name": "ipython",
    "version": 3
   },
   "file_extension": ".py",
   "mimetype": "text/x-python",
   "name": "python",
   "nbconvert_exporter": "python",
   "pygments_lexer": "ipython3",
   "version": "3.10.0"
  }
 },
 "nbformat": 4,
 "nbformat_minor": 5
}
