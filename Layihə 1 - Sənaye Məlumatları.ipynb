{
 "cells": [
  {
   "cell_type": "code",
   "execution_count": 50,
   "id": "4b8f7f98-d6f0-42e2-a28d-64871ee906a2",
   "metadata": {},
   "outputs": [],
   "source": [
    "hesabat_ili = 2024\n",
    "umumi_senaye_istehsal_hecmi_min_azn = 82123.5\n",
    "neft_qaz_sektorunun_payi_faiz = 27.3\n",
    "yeni_mulkiyyet_sayi = 5\n",
    "son_data_yenileme_tarixi = 2024-12-26\n",
    "emekdash_sayi_nefer = 1587"
   ]
  },
  {
   "cell_type": "code",
   "execution_count": 51,
   "id": "4fe79749-4cfd-4e1c-9861-d9b01659b918",
   "metadata": {},
   "outputs": [
    {
     "name": "stdout",
     "output_type": "stream",
     "text": [
      "Hesabat İli: 2024\n"
     ]
    }
   ],
   "source": [
    "print(\"Hesabat İli:\", hesabat_ili)"
   ]
  },
  {
   "cell_type": "code",
   "execution_count": 52,
   "id": "f88d2652-0a34-4388-a907-8f0fe278b0eb",
   "metadata": {},
   "outputs": [
    {
     "name": "stdout",
     "output_type": "stream",
     "text": [
      "Ümumi Sənaye İstehsal Həcmi (Min AZN): 82123.5\n"
     ]
    }
   ],
   "source": [
    "print(\"Ümumi Sənaye İstehsal Həcmi (Min AZN):\", umumi_senaye_istehsal_hecmi_min_azn)"
   ]
  },
  {
   "cell_type": "code",
   "execution_count": 53,
   "id": "12a09cea-306c-4951-a0e5-4c806a751c94",
   "metadata": {},
   "outputs": [
    {
     "name": "stdout",
     "output_type": "stream",
     "text": [
      "Neft-qaz sektorunun payı (faizlə): 27.3\n"
     ]
    }
   ],
   "source": [
    "print(\"Neft-qaz sektorunun payı (faizlə):\", neft_qaz_sektorunun_payi_faiz)"
   ]
  },
  {
   "cell_type": "code",
   "execution_count": 54,
   "id": "28d9db0c-fc24-43d6-a2b1-6b7461574117",
   "metadata": {},
   "outputs": [
    {
     "name": "stdout",
     "output_type": "stream",
     "text": [
      "Yeni mülkiyyətçi sayı (nəfərlə): 5\n"
     ]
    }
   ],
   "source": [
    "print(\"Yeni mülkiyyətçi sayı (nəfərlə):\", yeni_mulkiyyet_sayi)"
   ]
  },
  {
   "cell_type": "code",
   "execution_count": 55,
   "id": "c7637374-754b-4ddf-b239-e5611828a19f",
   "metadata": {},
   "outputs": [
    {
     "name": "stdout",
     "output_type": "stream",
     "text": [
      "Son yenilənmə tarixi: 1986\n"
     ]
    }
   ],
   "source": [
    "print(\"Son yenilənmə tarixi:\", son_data_yenileme_tarixi)"
   ]
  },
  {
   "cell_type": "code",
   "execution_count": 56,
   "id": "5635f9cf-563d-439b-bf01-8e2e338db5d2",
   "metadata": {},
   "outputs": [
    {
     "name": "stdout",
     "output_type": "stream",
     "text": [
      "İşçilərin sayı (nəfər): 1587\n"
     ]
    }
   ],
   "source": [
    "print(\"İşçilərin sayı (nəfər):\", emekdash_sayi_nefer)"
   ]
  },
  {
   "cell_type": "code",
   "execution_count": 57,
   "id": "0d67b0d4-c053-4435-9990-8651f4ee7d68",
   "metadata": {},
   "outputs": [
    {
     "name": "stdout",
     "output_type": "stream",
     "text": [
      "hesabat_ili dəyişəninin tipi: <class 'int'>\n",
      "umumi_senaye_istehsal_hecmi_mln_azn dəyişəninin tipi: <class 'float'>\n"
     ]
    }
   ],
   "source": [
    "print(\"hesabat_ili dəyişəninin tipi:\", type(hesabat_ili))\n",
    "print(\"umumi_senaye_istehsal_hecmi_mln_azn dəyişəninin tipi:\", type(umumi_senaye_istehsal_hecmi_mln_azn))"
   ]
  },
  {
   "cell_type": "code",
   "execution_count": 58,
   "id": "2e88275c-ec01-48bb-848a-abea3930a135",
   "metadata": {},
   "outputs": [],
   "source": [
    "qeyri_neft_qaz_sektorunun_payi_faiz = 100 - neft_qaz_sektorunun_payi_faiz"
   ]
  },
  {
   "cell_type": "code",
   "execution_count": 59,
   "id": "02063cab-f6e7-40d9-b7b2-31bae82237c5",
   "metadata": {},
   "outputs": [
    {
     "name": "stdout",
     "output_type": "stream",
     "text": [
      "Qeyri neft qaz sektorunun payı (faizlə) 72.7\n"
     ]
    }
   ],
   "source": [
    "print(\"Qeyri neft qaz sektorunun payı (faizlə)\", qeyri_neft_qaz_sektorunun_payi_faiz)"
   ]
  },
  {
   "cell_type": "code",
   "execution_count": 60,
   "id": "a5c8b5bc-10d5-4af3-8663-dd24c5bb51d7",
   "metadata": {},
   "outputs": [],
   "source": [
    "adambashina_senaye_istehsal_azn = umumi_senaye_istehsal_hecmi_min_azn / emekdash_sayi_nefer"
   ]
  },
  {
   "cell_type": "code",
   "execution_count": 61,
   "id": "464201d9-307f-4d22-8952-c93b519ba9a6",
   "metadata": {},
   "outputs": [
    {
     "name": "stdout",
     "output_type": "stream",
     "text": [
      "Adam başına sənaye istehsalı (AZN) 51.747637051039696\n"
     ]
    }
   ],
   "source": [
    "print(\"Adam başına sənaye istehsalı (AZN)\", adambashina_senaye_istehsal_azn)"
   ]
  },
  {
   "cell_type": "code",
   "execution_count": 62,
   "id": "591a15fd-a87e-4339-bb05-a1a4b944078c",
   "metadata": {},
   "outputs": [],
   "source": [
    "novbeti_il_istehsal_proqnozu_min_azn = umumi_senaye_istehsal_hecmi_min_azn * 1.07"
   ]
  },
  {
   "cell_type": "code",
   "execution_count": 63,
   "id": "8d26f016-df21-4599-a485-175aeb38a0a4",
   "metadata": {},
   "outputs": [
    {
     "name": "stdout",
     "output_type": "stream",
     "text": [
      "Növbəti ilin istehsal proqnozu (min manat) 87872.145\n"
     ]
    }
   ],
   "source": [
    "print(\"Növbəti ilin istehsal proqnozu (min manat)\", novbeti_il_istehsal_proqnozu_min_azn)"
   ]
  },
  {
   "cell_type": "code",
   "execution_count": 64,
   "id": "b3ba02e3-94e8-469d-bed9-0d744663a55a",
   "metadata": {},
   "outputs": [],
   "source": [
    "paylar_cemidir_100 = (neft_qaz_sektorunun_payi_faiz + qeyri_neft_qaz_sektorunun_payi_faiz) == 100"
   ]
  },
  {
   "cell_type": "code",
   "execution_count": 65,
   "id": "bdbfba6a-2207-465d-bc56-24dbf8da05e5",
   "metadata": {},
   "outputs": [
    {
     "name": "stdout",
     "output_type": "stream",
     "text": [
      "Sektor paylarının cəmi 100-ə bərabərdirmi? True\n"
     ]
    }
   ],
   "source": [
    "print(\"Sektor paylarının cəmi 100-ə bərabərdirmi?\", paylar_cemidir_100)"
   ]
  },
  {
   "cell_type": "code",
   "execution_count": 66,
   "id": "3eac4fae-61dd-4503-99f6-4e3326aea3a4",
   "metadata": {},
   "outputs": [],
   "source": [
    "senaye_hesabat_bashligi = \"Sənaye İstehsalı Üzrə \" + str(hesabat_ili) + \" İllik Hesabatı\""
   ]
  },
  {
   "cell_type": "code",
   "execution_count": 67,
   "id": "4dd667db-a88a-463c-b2f1-6aaa2a016ccb",
   "metadata": {},
   "outputs": [
    {
     "name": "stdout",
     "output_type": "stream",
     "text": [
      "Yeni Hesabat Başlığı: Sənaye İstehsalı Üzrə 2024 İllik Hesabatı\n"
     ]
    }
   ],
   "source": [
    "print(\"Yeni Hesabat Başlığı:\", senaye_hesabat_bashligi)"
   ]
  },
  {
   "cell_type": "code",
   "execution_count": null,
   "id": "cb4cd623-0ad9-4b45-b95c-af039e87eb8a",
   "metadata": {},
   "outputs": [],
   "source": []
  }
 ],
 "metadata": {
  "kernelspec": {
   "display_name": "Python 3 (ipykernel)",
   "language": "python",
   "name": "python3"
  },
  "language_info": {
   "codemirror_mode": {
    "name": "ipython",
    "version": 3
   },
   "file_extension": ".py",
   "mimetype": "text/x-python",
   "name": "python",
   "nbconvert_exporter": "python",
   "pygments_lexer": "ipython3",
   "version": "3.10.0"
  }
 },
 "nbformat": 4,
 "nbformat_minor": 5
}
